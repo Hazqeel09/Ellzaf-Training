{
 "cells": [
  {
   "cell_type": "code",
   "execution_count": 1,
   "metadata": {},
   "outputs": [
    {
     "name": "stdout",
     "output_type": "stream",
     "text": [
      "Ejen Ali: The Movie\n",
      "9.4 \t 28 Nov 2019\n",
      "After being accidentally recruited as a spy, 12-year-old Ejen Ali has now grown to embrace his role in secret agency Meta Advance Tactical Agency (MATA) to protect the futuristic city of ... \n",
      "\n",
      "Frozen II\n",
      "6.9 \t 22 Nov 2019\n",
      "Anna, Elsa, Kristoff, Olaf and Sven leave Arendelle to travel to an ancient, autumn-bound forest of an enchanted land. They set out to find the origin of Elsa's powers in order to save their kingdom. \n",
      "\n",
      "Comparing between \"Ejen Ali: The Movie\" and \"Frozen II\"\n",
      "Result: \"Ejen Ali: The Movie\" is better than \"Frozen II\"\n"
     ]
    }
   ],
   "source": [
    "import requests\n",
    "\n",
    "first_movie_url = 'http://www.omdbapi.com/?i=tt9020536&apikey='\n",
    "sec_movie_url = 'http://www.omdbapi.com/?i=tt4520988&apikey='\n",
    "key = 'get api key from here: https://www.omdbapi.com/ '\n",
    "\n",
    "first_movie = requests.get(first_movie_url+key)\n",
    "first_movie_json = first_movie.json()\n",
    "\n",
    "print(first_movie_json['Title'])\n",
    "print(first_movie_json['imdbRating'],'\\t', first_movie_json['Released'])\n",
    "print(first_movie_json['Plot'],'\\n')\n",
    "\n",
    "sec_movie = requests.get(sec_movie_url+key)\n",
    "sec_movie_json = sec_movie.json()\n",
    "\n",
    "print(sec_movie_json['Title'])\n",
    "print(sec_movie_json['imdbRating'],'\\t', sec_movie_json['Released'])\n",
    "print(sec_movie_json['Plot'],'\\n')\n",
    "\n",
    "print('Comparing between \"' + first_movie_json['Title'] + '\" and \"' + sec_movie_json['Title'] + '\"')\n",
    "if(first_movie_json['imdbRating'] > sec_movie_json['imdbRating']):\n",
    "    print('Result: \"' + first_movie_json['Title'] + '\" is better than \"' + sec_movie_json['Title'] + '\"')\n",
    "else:\n",
    "    print('\"' + sec_movie_json['Title'] + '\" is better than \"' + first_movie_json['Title'] + '\"')"
   ]
  }
 ],
 "metadata": {
  "kernelspec": {
   "display_name": "Python 3",
   "language": "python",
   "name": "python3"
  },
  "language_info": {
   "codemirror_mode": {
    "name": "ipython",
    "version": 3
   },
   "file_extension": ".py",
   "mimetype": "text/x-python",
   "name": "python",
   "nbconvert_exporter": "python",
   "pygments_lexer": "ipython3",
   "version": "3.7.6"
  }
 },
 "nbformat": 4,
 "nbformat_minor": 2
}
