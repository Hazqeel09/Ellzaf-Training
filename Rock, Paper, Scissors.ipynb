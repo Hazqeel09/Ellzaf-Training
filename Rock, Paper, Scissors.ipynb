{
 "cells": [
  {
   "cell_type": "code",
   "execution_count": 1,
   "metadata": {},
   "outputs": [
    {
     "name": "stdout",
     "output_type": "stream",
     "text": [
      "Play Rock, Paper, Scissors. Please choose one among R or P or S: d\n",
      "Please provide correct input. Please choose one among R or P or S: \n",
      "Play Rock, Paper, Scissors. Please choose one among R or P or S: r\n",
      "\n",
      "You choose: R\n",
      "Code generate: S\n",
      "\n",
      "You Win!!\n"
     ]
    }
   ],
   "source": [
    "import random\n",
    "generated_rps = random.choice(['R', 'P', 'S'])\n",
    "\n",
    "\n",
    "#ask user input\n",
    "while True:\n",
    "    #validate input\n",
    "    user_rps = input(\"Play Rock, Paper, Scissors. Please choose one among R or P or S: \").upper()\n",
    "    if(user_rps not in ['R','P','S']):\n",
    "        print(\"Please provide correct input. Please choose one among R or P or S: \")\n",
    "        continue\n",
    "    break\n",
    "#output user choice and generated value\n",
    "print(\"\\nYou choose: \" + user_rps)\n",
    "print(\"Code generate: \" + generated_rps)\n",
    "\n",
    "#do comparison to see which side win\n",
    "if(user_rps == generated_rps):\n",
    "    print(\"\\nDraw!!\")\n",
    "elif((user_rps == 'P' and generated_rps == 'R') or (user_rps == 'R' and generated_rps == 'S') \n",
    "    or (user_rps == 'S' and generated_rps == 'P')):\n",
    "    print(\"\\nYou Win!!\")\n",
    "else:\n",
    "    print(\"\\nCode Win!!\")"
   ]
  },
  {
   "cell_type": "code",
   "execution_count": null,
   "metadata": {},
   "outputs": [],
   "source": []
  }
 ],
 "metadata": {
  "kernelspec": {
   "display_name": "Python 3",
   "language": "python",
   "name": "python3"
  },
  "language_info": {
   "codemirror_mode": {
    "name": "ipython",
    "version": 3
   },
   "file_extension": ".py",
   "mimetype": "text/x-python",
   "name": "python",
   "nbconvert_exporter": "python",
   "pygments_lexer": "ipython3",
   "version": "3.7.6"
  }
 },
 "nbformat": 4,
 "nbformat_minor": 2
}
