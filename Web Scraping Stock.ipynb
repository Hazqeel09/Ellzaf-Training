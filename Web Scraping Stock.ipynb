{
 "cells": [
  {
   "cell_type": "code",
   "execution_count": 1,
   "metadata": {},
   "outputs": [
    {
     "name": "stdout",
     "output_type": "stream",
     "text": [
      "------------------------\n",
      "DUFU\n",
      "------------------------\n",
      "\n",
      "6.0000\n",
      "2.0000\n",
      "2.5000\n",
      "4.5000\n",
      "2.0000\n",
      "3.5000\n",
      "1.0000\n",
      "1.1000\n",
      "2.0000\n",
      "------------------------\n",
      "MI\n",
      "------------------------\n",
      "\n",
      "3.0000\n",
      "1.0000\n",
      "2.0000\n",
      "3.0000\n",
      "------------------------\n",
      "FPGROUP\n",
      "------------------------\n",
      "\n",
      "1.2000\n",
      "1.0000\n",
      "1.0000\n",
      "1.0000\n"
     ]
    }
   ],
   "source": [
    "import requests\n",
    "from bs4 import BeautifulSoup\n",
    "\n",
    "stock_codes = ['7233','5286','5277']\n",
    "\n",
    "for stock_code in stock_codes:\n",
    "    url = 'https://www.malaysiastock.biz/Corporate-Infomation.aspx?securityCode=' + stock_code\n",
    "    page = requests.get(url)\n",
    "\n",
    "    soup = BeautifulSoup(page.content, 'html.parser')\n",
    "\n",
    "    stock_name = soup.find(id='lblCorporatePageTitle').get_text()\n",
    "    print('------------------------')\n",
    "    print(stock_name[:-21])\n",
    "    print('------------------------\\n')\n",
    "    \n",
    "    \n",
    "    table = soup.find(id='MainContent_gvEntitlement')\n",
    "    table_body = table.find('tbody')\n",
    "\n",
    "    table_rows = table_body.find_all('tr')\n",
    "\n",
    "    dividend_data = []\n",
    "    for row in table_rows:\n",
    "        table_columns = row.find_all('td')\n",
    "        table_columns = [value.get_text().strip() for value in table_columns]\n",
    "        dividend_data.append([value for value in table_columns if value]) # Get rid of empty values\n",
    "\n",
    "    for i in range(1,len(dividend_data)):\n",
    "        print(dividend_data[i][6])"
   ]
  }
 ],
 "metadata": {
  "kernelspec": {
   "display_name": "Python 3",
   "language": "python",
   "name": "python3"
  },
  "language_info": {
   "codemirror_mode": {
    "name": "ipython",
    "version": 3
   },
   "file_extension": ".py",
   "mimetype": "text/x-python",
   "name": "python",
   "nbconvert_exporter": "python",
   "pygments_lexer": "ipython3",
   "version": "3.7.6"
  }
 },
 "nbformat": 4,
 "nbformat_minor": 2
}
