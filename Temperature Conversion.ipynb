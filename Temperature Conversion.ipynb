{
 "cells": [
  {
   "cell_type": "code",
   "execution_count": 1,
   "metadata": {},
   "outputs": [
    {
     "name": "stdout",
     "output_type": "stream",
     "text": [
      "Please provide the temperature in Celcius: asd\n",
      "Please provide number as input\n",
      "\n",
      "Please provide the temperature in Celcius: 15.9\n",
      "Temperature in Kelvin: 289.04999999999995\n"
     ]
    }
   ],
   "source": [
    "#ask user input\n",
    "while True:\n",
    "    #validate input\n",
    "    try:\n",
    "        celcius = float(input(\"Please provide the temperature in Celcius: \"))\n",
    "    except ValueError:\n",
    "        print(\"Please provide number as input\\n\")\n",
    "        continue\n",
    "    else:\n",
    "        break\n",
    "#output weight in kilogram\n",
    "print(\"Temperature in Kelvin: \" + str(celcius + 273.15))"
   ]
  },
  {
   "cell_type": "code",
   "execution_count": null,
   "metadata": {},
   "outputs": [],
   "source": []
  }
 ],
 "metadata": {
  "kernelspec": {
   "display_name": "Python 3",
   "language": "python",
   "name": "python3"
  },
  "language_info": {
   "codemirror_mode": {
    "name": "ipython",
    "version": 3
   },
   "file_extension": ".py",
   "mimetype": "text/x-python",
   "name": "python",
   "nbconvert_exporter": "python",
   "pygments_lexer": "ipython3",
   "version": "3.7.6"
  }
 },
 "nbformat": 4,
 "nbformat_minor": 2
}
